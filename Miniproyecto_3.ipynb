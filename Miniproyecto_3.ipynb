{
  "nbformat": 4,
  "nbformat_minor": 0,
  "metadata": {
    "colab": {
      "name": "Miniproyecto 3.ipynb",
      "provenance": []
    },
    "kernelspec": {
      "name": "python3",
      "display_name": "Python 3"
    }
  },
  "cells": [
    {
      "cell_type": "markdown",
      "metadata": {
        "id": "-rMcqpZVgJcy"
      },
      "source": [
        "Integrantes:\n",
        "* Raúl Monzon 17014\n",
        "* David Valenzuela 171001\n",
        "\n",
        "\n",
        "# <center> Mini Proyecto 3 </center>"
      ]
    },
    {
      "cell_type": "markdown",
      "metadata": {
        "id": "VTnJXPc9gR8T"
      },
      "source": [
        "Dependencias"
      ]
    },
    {
      "cell_type": "code",
      "metadata": {
        "id": "aRZo9_ESgFCV"
      },
      "source": [
        "import numpy as np\n",
        "import random"
      ],
      "execution_count": 19,
      "outputs": []
    },
    {
      "cell_type": "markdown",
      "metadata": {
        "id": "MqUq8qHWmevq"
      },
      "source": [
        "## Funciones\n",
        "---"
      ]
    },
    {
      "cell_type": "code",
      "metadata": {
        "id": "GjOuLPvami65"
      },
      "source": [
        "#Función para calcular tiempo de llegada\n",
        "def arriveTime(time, max, pivot):\n",
        "  if pivot:\n",
        "    return time - ((1/max)*np.log(random.random()))\n",
        "  else: \n",
        "    while True:\n",
        "      random_number = random.random()\n",
        "      time = time - (1/max)*np.log(random_number)\n",
        "      random_number = random.random()\n",
        "      if (random_number <= np.random.poisson(time)/max):\n",
        "        return time"
      ],
      "execution_count": 24,
      "outputs": []
    },
    {
      "cell_type": "code",
      "metadata": {
        "id": "zufrWAUzpOUJ"
      },
      "source": [
        "#Función para simular procesamiento\n",
        "def simulate(max_sol, max_t, speed, quant_cpus):\n",
        "\n",
        "  #Variable de tiempo de la simulación\n",
        "  t = 0 \n",
        "\n",
        "  #Variables para control de datos y contadores\n",
        "  Na = 0\n",
        "  cpus = np.zeros(quant_cpus)\n",
        "  busyTime = np.zeros(quant_cpus)\n",
        "\n",
        "  #Numero de solicitudes en el sistema en el tiempo t\n",
        "  n= 0\n",
        "\n",
        "  #Tiempos de las i-ésima solicitudes\n",
        "  A = {}\n",
        "  D = {}\n",
        "  It = []\n",
        "\n",
        "  #Tiempos de llegada y salida\n",
        "  ta = arriveTime(t,max_sol,True)\n",
        "  td = np.infty + np.zeros(quant_cpus) \n",
        "  ti = np.zeros(quant_cpus)\n",
        "\n",
        "  while t < max_t:\n",
        "    #Caso 1\n",
        "    if (ta == min(ta,min(td))):\n",
        "      t = ta\n",
        "      Na = Na +1\n",
        "      ta = arriveTime(t,max_sol,True)\n",
        "      A[Na] = t\n",
        "      #Caso 2\n",
        "      if (n < quant_cpus):\n",
        "        for i in range(quant_cpus):\n",
        "          if (ti[i] == 0):\n",
        "            ti[i] = Na\n",
        "            It = np.append(It,t-A[Na])\n",
        "            td[i] = t - ((1/max_sol)*np.log(random.random()))\n",
        "            busyTime[i] = busyTime[i] + td[i] - t\n",
        "            break\n",
        "      n = n + 1\n",
        "    else:\n",
        "      #Caso 3\n",
        "      temp = np.argmin(td)\n",
        "      t = td[temp]\n",
        "      cpus[temp] = cpus[temp] +1\n",
        "      D[ti[temp]] = time\n",
        "      if (n <= quant_cpus):\n",
        "        ti[temp] = 0\n",
        "        td[temp] = np.infty\n",
        "      else:\n",
        "        index = max(ti) +1\n",
        "        ti[temp] = index\n",
        "        It = np.append(It, t - A[index])\n",
        "        td[temp] = t - ((1/max_sol)*np.log(random.random()))\n",
        "        busyTime[temp] = busyTime[temp] + td[temp] - t\n",
        "      n = n - 1\n",
        "  \n",
        "  array = td\n",
        "  outputTime = []\n",
        "  for i in array:\n",
        "    if not np.isinf(i):\n",
        "      outputTime.append(i)\n",
        "    \n",
        "  array_data = It\n",
        "  req = []\n",
        "  counter = 0\n",
        "  for i in array_data:\n",
        "    if i != 0:\n",
        "      req.append(1/i)\n",
        "    counter = counter + 1\n",
        "\n",
        "  freeTime = np.maximum(np.ones(quant_cpus)*max_t - busyTime,0)\n",
        "  total_req = np.round(sum(It),5)\n",
        "  mean_req = np.round(np.mean(It),5)\n",
        "  mean_req_time = np.round(sum(req)/counter,5)\n",
        "  lastTime = np.round(max(outputTime),8)\n",
        "\n",
        "  return cpus, busyTime, freeTime, total_req, mean_req, mean_req_time, lastTime"
      ],
      "execution_count": 42,
      "outputs": []
    },
    {
      "cell_type": "markdown",
      "metadata": {
        "id": "LD6COYUagVn4"
      },
      "source": [
        "## Task 1\n",
        "---"
      ]
    },
    {
      "cell_type": "markdown",
      "metadata": {
        "id": "aSjZv6NNidf3"
      },
      "source": [
        "Simulación con Gorilla Megacomputing"
      ]
    },
    {
      "cell_type": "code",
      "metadata": {
        "id": "HG13-JqigsQk",
        "outputId": "dc8e9e72-75cb-4c2a-e7c9-0d994a1cefc5",
        "colab": {
          "base_uri": "https://localhost:8080/",
          "height": 136
        }
      },
      "source": [
        "#Variables constantes\n",
        "max_sol = 2400\n",
        "time = 60\n",
        "speed = 1/(100*60)\n",
        "quant_cpus = 1\n",
        "\n",
        "req = None\n",
        "\n",
        "#Simulación\n",
        "req, busyTime, freeTime, total_req, mean_req, mean_req_time, lastTime = simulate(max_sol, time, speed, quant_cpus)\n",
        "\n",
        "req_int = ''\n",
        "for i in req:\n",
        "  req_int = req_int + ' ' + str(i)\n",
        "\n",
        "busyTime_int = ''\n",
        "for i in req:\n",
        "  busyTime_int = busyTime_int + ' ' + str(i)\n",
        "\n",
        "freeTime_int = ''\n",
        "for i in req:\n",
        "  freeTime_int = freeTime_int + ' ' + str(i)\n",
        "\n",
        "\n",
        "print (\"Se atendieron\",req, \" solicitudes (esta representado por servidor)\")\n",
        "print (\"Por\",busyTime_int, \" segundos estuvieron ocupados los servidores (esta representado por servidor)\")\n",
        "print (\"Por\",freeTime_int, \" segundos estuvieron libres los servidores (esta representado por servidor)\")\n",
        "print (\"Tiempo que se ocupo con las solicitudes \",total_req,\" en cola\")\n",
        "print (\"Promedio de solicituedes por segundo en cola \", mean_req)\n",
        "print (\"Promedio de segundo que se ocuparon por solicitud \", mean_req_time)\n",
        "print (\"Tiempo en la que salió la última solicitud \", lastTime)"
      ],
      "execution_count": 52,
      "outputs": [
        {
          "output_type": "stream",
          "text": [
            "Se atendieron [143389.]  solicitudes (esta representado por servidor)\n",
            "Por  143389.0  segundos estuvieron ocupados los servidores (esta representado por servidor)\n",
            "Por  143389.0  segundos estuvieron libres los servidores (esta representado por servidor)\n",
            "Tiempo que se ocupo con las solicitudes  27457.23613  en cola\n",
            "Promedio de solicituedes por segundo en cola  0.19149\n",
            "Promedio de segundo que se ocuparon por solicitud  49.03595\n",
            "Tiempo en la que salió la última solicitud  60.00009877\n"
          ],
          "name": "stdout"
        }
      ]
    },
    {
      "cell_type": "markdown",
      "metadata": {
        "id": "zmnz4dHZijCk"
      },
      "source": [
        "Simulación con Ant smart computing"
      ]
    },
    {
      "cell_type": "code",
      "metadata": {
        "id": "96dFAcrkinW5",
        "outputId": "6779d422-d33f-4bcc-fa8a-7cf25b0894d6",
        "colab": {
          "base_uri": "https://localhost:8080/",
          "height": 153
        }
      },
      "source": [
        "#Variables constantes\n",
        "max_sol = 2400\n",
        "time = 60\n",
        "speed = 1/(10*60)\n",
        "quant_cpus = 10\n",
        "\n",
        "req = None\n",
        "\n",
        "#Simulación\n",
        "req, busyTime, freeTime, total_req, mean_req, mean_req_time, lastTime = simulate(max_sol, time, speed, quant_cpus)\n",
        "\n",
        "req_int = ''\n",
        "for i in req:\n",
        "  req_int = req_int + ' ' + str(i)\n",
        "\n",
        "busyTime_int = ''\n",
        "for i in req:\n",
        "  busyTime_int = busyTime_int + ' ' + str(i)\n",
        "\n",
        "freeTime_int = ''\n",
        "for i in req:\n",
        "  freeTime_int = freeTime_int + ' ' + str(i)\n",
        "\n",
        "\n",
        "print (\"Se atendieron\",req, \" solicitudes (esta representado por servidor)\")\n",
        "print (\"Por\",busyTime_int, \" segundos estuvieron ocupados los servidores (esta representado por servidor)\")\n",
        "print (\"Por\",freeTime_int, \" segundos estuvieron libres los servidores (esta representado por servidor)\")\n",
        "print (\"Tiempo que se ocupo con las solicitudes \",total_req,\" en cola\")\n",
        "print (\"Promedio de solicituedes por segundo en cola \", mean_req)\n",
        "print (\"Promedio de segundo que se ocuparon por solicitud \", mean_req_time)\n",
        "print (\"Tiempo en la que salió la última solicitud \", lastTime)"
      ],
      "execution_count": 48,
      "outputs": [
        {
          "output_type": "stream",
          "text": [
            "Se atendieron [7.1754e+04 4.2918e+04 1.9530e+04 6.6820e+03 1.7040e+03 3.9300e+02\n",
            " 7.0000e+01 8.0000e+00 1.0000e+00 0.0000e+00]  solicitudes (esta representado por servidor)\n",
            "Por  71754.0 42918.0 19530.0 6682.0 1704.0 393.0 70.0 8.0 1.0 0.0  segundos estuvieron ocupados los servidores (esta representado por servidor)\n",
            "Por  71754.0 42918.0 19530.0 6682.0 1704.0 393.0 70.0 8.0 1.0 0.0  segundos estuvieron libres los servidores (esta representado por servidor)\n",
            "Tiempo que se ocupo con las solicitudes  0.0  en cola\n",
            "Promedio de solicituedes por segundo en cola  0.0\n",
            "Promedio de segundo que se ocuparon por solicitud  0.0\n",
            "Tiempo en la que salió la última solicitud  60.00038509\n"
          ],
          "name": "stdout"
        }
      ]
    },
    {
      "cell_type": "markdown",
      "metadata": {
        "id": "9r4wOUJagcFt"
      },
      "source": [
        "## Task 2\n",
        "---"
      ]
    },
    {
      "cell_type": "markdown",
      "metadata": {
        "id": "w0XdBGgLCpPC"
      },
      "source": [
        "Ants Smart computing con 2400 solicitudes por minuto"
      ]
    },
    {
      "cell_type": "code",
      "metadata": {
        "id": "3QoB6_Nqgs1f",
        "outputId": "26787297-549a-4b9f-ad34-3279d1083cda",
        "colab": {
          "base_uri": "https://localhost:8080/",
          "height": 170
        }
      },
      "source": [
        "#Variables constantes\n",
        "max_sol = 2400\n",
        "time = 60\n",
        "speed = 1/(10*60)\n",
        "quant_cpus = 15\n",
        "\n",
        "req = None\n",
        "\n",
        "#Simulación\n",
        "req, busyTime, freeTime, total_req, mean_req, mean_req_time, lastTime = simulate(max_sol, time, speed, quant_cpus)\n",
        "\n",
        "req_int = ''\n",
        "for i in req:\n",
        "  req_int = req_int + ' ' + str(i)\n",
        "\n",
        "busyTime_int = ''\n",
        "for i in req:\n",
        "  busyTime_int = busyTime_int + ' ' + str(i)\n",
        "\n",
        "freeTime_int = ''\n",
        "for i in req:\n",
        "  freeTime_int = freeTime_int + ' ' + str(i)\n",
        "\n",
        "\n",
        "print (\"Se atendieron\",req, \" solicitudes (esta representado por servidor)\")\n",
        "print (\"Por\",busyTime_int, \" segundos estuvieron ocupados los servidores (esta representado por servidor)\")\n",
        "print (\"Por\",freeTime_int, \" segundos estuvieron libres los servidores (esta representado por servidor)\")\n",
        "print (\"Tiempo que se ocupo con las solicitudes \",total_req,\" en cola\")\n",
        "print (\"Promedio de solicituedes por segundo en cola \", mean_req)\n",
        "print (\"Promedio de segundo que se ocuparon por solicitud \", mean_req_time)\n",
        "print (\"Tiempo en la que salió la última solicitud \", lastTime)"
      ],
      "execution_count": 49,
      "outputs": [
        {
          "output_type": "stream",
          "text": [
            "Se atendieron [7.2337e+04 4.3456e+04 1.9639e+04 6.7280e+03 1.6970e+03 3.7300e+02\n",
            " 6.5000e+01 1.0000e+01 2.0000e+00 0.0000e+00 0.0000e+00 0.0000e+00\n",
            " 0.0000e+00 0.0000e+00 0.0000e+00]  solicitudes (esta representado por servidor)\n",
            "Por  72337.0 43456.0 19639.0 6728.0 1697.0 373.0 65.0 10.0 2.0 0.0 0.0 0.0 0.0 0.0 0.0  segundos estuvieron ocupados los servidores (esta representado por servidor)\n",
            "Por  72337.0 43456.0 19639.0 6728.0 1697.0 373.0 65.0 10.0 2.0 0.0 0.0 0.0 0.0 0.0 0.0  segundos estuvieron libres los servidores (esta representado por servidor)\n",
            "Tiempo que se ocupo con las solicitudes  0.0  en cola\n",
            "Promedio de solicituedes por segundo en cola  0.0\n",
            "Promedio de segundo que se ocuparon por solicitud  0.0\n",
            "Tiempo en la que salió la última solicitud  60.00054472\n"
          ],
          "name": "stdout"
        }
      ]
    },
    {
      "cell_type": "markdown",
      "metadata": {
        "id": "U_GmINpxgc1c"
      },
      "source": [
        "## Task 3\n",
        "---"
      ]
    },
    {
      "cell_type": "markdown",
      "metadata": {
        "id": "nAmkq3cPDGof"
      },
      "source": [
        "Gorilla simulación con 6000 solicitudes"
      ]
    },
    {
      "cell_type": "code",
      "metadata": {
        "id": "Xu4Ot65YDDTw",
        "outputId": "ca767a94-0caa-40d1-8982-0e396cdfb0b7",
        "colab": {
          "base_uri": "https://localhost:8080/",
          "height": 136
        }
      },
      "source": [
        "#Variables constantes\n",
        "max_sol = 6000\n",
        "time = 60\n",
        "speed = 1/(100*60)\n",
        "quant_cpus = 1\n",
        "\n",
        "req = None\n",
        "\n",
        "#Simulación\n",
        "req, busyTime, freeTime, total_req, mean_req, mean_req_time, lastTime = simulate(max_sol, time, speed, quant_cpus)\n",
        "\n",
        "req_int = ''\n",
        "for i in req:\n",
        "  req_int = req_int + ' ' + str(i)\n",
        "\n",
        "busyTime_int = ''\n",
        "for i in req:\n",
        "  busyTime_int = busyTime_int + ' ' + str(i)\n",
        "\n",
        "freeTime_int = ''\n",
        "for i in req:\n",
        "  freeTime_int = freeTime_int + ' ' + str(i)\n",
        "\n",
        "\n",
        "print (\"Se atendieron\",req, \" solicitudes (esta representado por servidor)\")\n",
        "print (\"Por\",busyTime_int, \" segundos estuvieron ocupados los servidores (esta representado por servidor)\")\n",
        "print (\"Por\",freeTime_int, \" segundos estuvieron libres los servidores (esta representado por servidor)\")\n",
        "print (\"Tiempo que se ocupo con las solicitudes \",total_req,\" en cola\")\n",
        "print (\"Promedio de solicituedes por segundo en cola \", mean_req)\n",
        "print (\"Promedio de segundo que se ocuparon por solicitud \", mean_req_time)\n",
        "print (\"Tiempo en la que salió la última solicitud \", lastTime)"
      ],
      "execution_count": 50,
      "outputs": [
        {
          "output_type": "stream",
          "text": [
            "Se atendieron [359864.]  solicitudes (esta representado por servidor)\n",
            "Por  359864.0  segundos estuvieron ocupados los servidores (esta representado por servidor)\n",
            "Por  359864.0  segundos estuvieron libres los servidores (esta representado por servidor)\n",
            "Tiempo que se ocupo con las solicitudes  15747.80202  en cola\n",
            "Promedio de solicituedes por segundo en cola  0.04376\n",
            "Promedio de segundo que se ocuparon por solicitud  89.10136\n",
            "Tiempo en la que salió la última solicitud  60.00007579\n"
          ],
          "name": "stdout"
        }
      ]
    },
    {
      "cell_type": "markdown",
      "metadata": {
        "id": "3XS3WwjlDF6z"
      },
      "source": [
        "Ants smart simulación con 6000 solicitudes"
      ]
    },
    {
      "cell_type": "code",
      "metadata": {
        "id": "R09H8qH9DD22",
        "outputId": "a2b24502-b903-41ef-db6d-7e53db3d55d9",
        "colab": {
          "base_uri": "https://localhost:8080/",
          "height": 153
        }
      },
      "source": [
        "#Variables constantes\n",
        "max_sol = 6000\n",
        "time = 60\n",
        "speed = 1/(10*60)\n",
        "quant_cpus = 10\n",
        "\n",
        "req = None\n",
        "\n",
        "#Simulación\n",
        "req, busyTime, freeTime, total_req, mean_req, mean_req_time, lastTime = simulate(max_sol, time, speed, quant_cpus)\n",
        "\n",
        "req_int = ''\n",
        "for i in req:\n",
        "  req_int = req_int + ' ' + str(i)\n",
        "\n",
        "busyTime_int = ''\n",
        "for i in req:\n",
        "  busyTime_int = busyTime_int + ' ' + str(i)\n",
        "\n",
        "freeTime_int = ''\n",
        "for i in req:\n",
        "  freeTime_int = freeTime_int + ' ' + str(i)\n",
        "\n",
        "\n",
        "print (\"Se atendieron\",req, \" solicitudes (esta representado por servidor)\")\n",
        "print (\"Por\",busyTime_int, \" segundos estuvieron ocupados los servidores (esta representado por servidor)\")\n",
        "print (\"Por\",freeTime_int, \" segundos estuvieron libres los servidores (esta representado por servidor)\")\n",
        "print (\"Tiempo que se ocupo con las solicitudes \",total_req,\" en cola\")\n",
        "print (\"Promedio de solicituedes por segundo en cola \", mean_req)\n",
        "print (\"Promedio de segundo que se ocuparon por solicitud \", mean_req_time)\n",
        "print (\"Tiempo en la que salió la última solicitud \", lastTime)"
      ],
      "execution_count": 51,
      "outputs": [
        {
          "output_type": "stream",
          "text": [
            "Se atendieron [1.79791e+05 1.07996e+05 4.93900e+04 1.71200e+04 4.48900e+03 9.26000e+02\n",
            " 1.78000e+02 1.90000e+01 4.00000e+00 0.00000e+00]  solicitudes (esta representado por servidor)\n",
            "Por  179791.0 107996.0 49390.0 17120.0 4489.0 926.0 178.0 19.0 4.0 0.0  segundos estuvieron ocupados los servidores (esta representado por servidor)\n",
            "Por  179791.0 107996.0 49390.0 17120.0 4489.0 926.0 178.0 19.0 4.0 0.0  segundos estuvieron libres los servidores (esta representado por servidor)\n",
            "Tiempo que se ocupo con las solicitudes  0.0  en cola\n",
            "Promedio de solicituedes por segundo en cola  0.0\n",
            "Promedio de segundo que se ocuparon por solicitud  0.0\n",
            "Tiempo en la que salió la última solicitud  60.00042469\n"
          ],
          "name": "stdout"
        }
      ]
    },
    {
      "cell_type": "markdown",
      "metadata": {
        "id": "jFV81p7NgdOE"
      },
      "source": [
        "## Task 4\n",
        "---"
      ]
    },
    {
      "cell_type": "markdown",
      "metadata": {
        "id": "0N9Fd9BfEBNJ"
      },
      "source": [
        "Simulación de 6000 solicitudes por minutos con ants smart"
      ]
    },
    {
      "cell_type": "code",
      "metadata": {
        "id": "hhJDuOaRgtk4",
        "outputId": "b07a24d8-3b7b-4c21-ede3-4dee20d1f4ee",
        "colab": {
          "base_uri": "https://localhost:8080/",
          "height": 224
        }
      },
      "source": [
        "#Variables constantes\n",
        "max_sol = 6000\n",
        "time = 60\n",
        "speed = 1/(10*60)\n",
        "quant_cpus = 30\n",
        "\n",
        "req = None\n",
        "\n",
        "#Simulación\n",
        "req, busyTime, freeTime, total_req, mean_req, mean_req_time, lastTime = simulate(max_sol, time, speed, quant_cpus)\n",
        "\n",
        "req_int = ''\n",
        "for i in req:\n",
        "  req_int = req_int + ' ' + str(i)\n",
        "\n",
        "busyTime_int = ''\n",
        "for i in req:\n",
        "  busyTime_int = busyTime_int + ' ' + str(i)\n",
        "\n",
        "freeTime_int = ''\n",
        "for i in req:\n",
        "  freeTime_int = freeTime_int + ' ' + str(i)\n",
        "\n",
        "\n",
        "print (\"Se atendieron\",req, \" solicitudes (esta representado por servidor)\")\n",
        "print (\"Por\",busyTime_int, \" segundos estuvieron ocupados los servidores (esta representado por servidor)\")\n",
        "print (\"Por\",freeTime_int, \" segundos estuvieron libres los servidores (esta representado por servidor)\")\n",
        "print (\"Tiempo que se ocupo con las solicitudes \",total_req,\" en cola\")\n",
        "print (\"Promedio de solicituedes por segundo en cola \", mean_req)\n",
        "print (\"Promedio de segundo que se ocuparon por solicitud \", mean_req_time)\n",
        "print (\"Tiempo en la que salió la última solicitud \", lastTime)"
      ],
      "execution_count": 53,
      "outputs": [
        {
          "output_type": "stream",
          "text": [
            "Se atendieron [1.80299e+05 1.08245e+05 4.97540e+04 1.71590e+04 4.43500e+03 8.92000e+02\n",
            " 1.46000e+02 2.10000e+01 6.00000e+00 0.00000e+00 0.00000e+00 0.00000e+00\n",
            " 0.00000e+00 0.00000e+00 0.00000e+00 0.00000e+00 0.00000e+00 0.00000e+00\n",
            " 0.00000e+00 0.00000e+00 0.00000e+00 0.00000e+00 0.00000e+00 0.00000e+00\n",
            " 0.00000e+00 0.00000e+00 0.00000e+00 0.00000e+00 0.00000e+00 0.00000e+00]  solicitudes (esta representado por servidor)\n",
            "Por  180299.0 108245.0 49754.0 17159.0 4435.0 892.0 146.0 21.0 6.0 0.0 0.0 0.0 0.0 0.0 0.0 0.0 0.0 0.0 0.0 0.0 0.0 0.0 0.0 0.0 0.0 0.0 0.0 0.0 0.0 0.0  segundos estuvieron ocupados los servidores (esta representado por servidor)\n",
            "Por  180299.0 108245.0 49754.0 17159.0 4435.0 892.0 146.0 21.0 6.0 0.0 0.0 0.0 0.0 0.0 0.0 0.0 0.0 0.0 0.0 0.0 0.0 0.0 0.0 0.0 0.0 0.0 0.0 0.0 0.0 0.0  segundos estuvieron libres los servidores (esta representado por servidor)\n",
            "Tiempo que se ocupo con las solicitudes  0.0  en cola\n",
            "Promedio de solicituedes por segundo en cola  0.0\n",
            "Promedio de segundo que se ocuparon por solicitud  0.0\n",
            "Tiempo en la que salió la última solicitud  60.00010101\n"
          ],
          "name": "stdout"
        }
      ]
    },
    {
      "cell_type": "markdown",
      "metadata": {
        "id": "mBah1tFoggBe"
      },
      "source": [
        "## Task 5\n",
        "---\n",
        "Recomendación con la junta"
      ]
    },
    {
      "cell_type": "markdown",
      "metadata": {
        "id": "IFr8i4FtEO5L"
      },
      "source": [
        "Se recomienda contratar una cantidad de servidores que no sea exagerada, para sacarle el provecho a todos de manera equivalente. Si las solicitudes estarán en el rango de 24000 a 6000 se recomienda tener de 15 a 30 servidores, para reducir el tiempo de espera."
      ]
    }
  ]
}